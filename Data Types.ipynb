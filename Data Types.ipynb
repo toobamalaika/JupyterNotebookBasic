{
 "cells": [
  {
   "cell_type": "code",
   "execution_count": 107,
   "metadata": {},
   "outputs": [
    {
     "name": "stdout",
     "output_type": "stream",
     "text": [
      "Software Define Network\n"
     ]
    }
   ],
   "source": [
    "#Simple Variable\n",
    "hostname = \"Software Define Network\"\n",
    "print(hostname)"
   ]
  },
  {
   "cell_type": "markdown",
   "metadata": {},
   "source": [
    "# len() method"
   ]
  },
  {
   "cell_type": "code",
   "execution_count": 108,
   "metadata": {},
   "outputs": [
    {
     "name": "stdout",
     "output_type": "stream",
     "text": [
      "Length of Character 23\n"
     ]
    }
   ],
   "source": [
    "#len(var) check for length of var\n",
    "print(\"Length of Character\",len(hostname))"
   ]
  },
  {
   "cell_type": "markdown",
   "metadata": {},
   "source": [
    "# upper() method"
   ]
  },
  {
   "cell_type": "code",
   "execution_count": 109,
   "metadata": {},
   "outputs": [
    {
     "name": "stdout",
     "output_type": "stream",
     "text": [
      "Print in Uppercase:  SOFTWARE DEFINE NETWORK\n"
     ]
    }
   ],
   "source": [
    "#upper() method call for uppercase character\n",
    "print(\"Print in Uppercase: \", hostname.upper())"
   ]
  },
  {
   "cell_type": "markdown",
   "metadata": {},
   "source": [
    "# lower() method"
   ]
  },
  {
   "cell_type": "code",
   "execution_count": 110,
   "metadata": {},
   "outputs": [
    {
     "name": "stdout",
     "output_type": "stream",
     "text": [
      "Print in Lowercase:  software define network\n"
     ]
    }
   ],
   "source": [
    "#lower() method call for lowercase character\n",
    "print(\"Print in Lowercase: \", hostname.lower())"
   ]
  },
  {
   "cell_type": "markdown",
   "metadata": {},
   "source": [
    "# type() method"
   ]
  },
  {
   "cell_type": "code",
   "execution_count": 111,
   "metadata": {},
   "outputs": [
    {
     "data": {
      "text/plain": [
       "str"
      ]
     },
     "execution_count": 111,
     "metadata": {},
     "output_type": "execute_result"
    }
   ],
   "source": [
    "#type(var) for check datatype \n",
    "type(hostname)"
   ]
  },
  {
   "cell_type": "markdown",
   "metadata": {},
   "source": [
    "# Concatenation"
   ]
  },
  {
   "cell_type": "code",
   "execution_count": 112,
   "metadata": {},
   "outputs": [
    {
     "name": "stdout",
     "output_type": "stream",
     "text": [
      "Concatenation Result is:\n",
      " The IP Address is: 192.168.100.10\n"
     ]
    }
   ],
   "source": [
    "# + sign is use between variables for concatenation in python\n",
    "ipName = \"The IP Address is: \"\n",
    "ipNumber = '192.168.100.10'\n",
    "print( \"Concatenation Result is:\\n\" , ipName + ipNumber)"
   ]
  },
  {
   "cell_type": "markdown",
   "metadata": {},
   "source": [
    "# dir() and help()  method"
   ]
  },
  {
   "cell_type": "code",
   "execution_count": 127,
   "metadata": {},
   "outputs": [
    {
     "name": "stdout",
     "output_type": "stream",
     "text": [
      "Help on method_descriptor:\n",
      "\n",
      "translate(self, table, /)\n",
      "    Replace each character in the string using the given translation table.\n",
      "    \n",
      "      table\n",
      "        Translation table, which must be a mapping of Unicode ordinals to\n",
      "        Unicode ordinals, strings, or None.\n",
      "    \n",
      "    The table must implement lookup/indexing via __getitem__, for instance a\n",
      "    dictionary or list.  If this operation raises LookupError, the character is\n",
      "    left untouched.  Characters mapped to None are deleted.\n",
      "\n"
     ]
    }
   ],
   "source": [
    "#How to check predefined method list in python\n",
    "dir(str)\n",
    "# To define why we use method\n",
    "help(str.translate)"
   ]
  },
  {
   "cell_type": "markdown",
   "metadata": {},
   "source": [
    "# startswith() method"
   ]
  },
  {
   "cell_type": "code",
   "execution_count": 40,
   "metadata": {},
   "outputs": [
    {
     "data": {
      "text/plain": [
       "True"
      ]
     },
     "execution_count": 40,
     "metadata": {},
     "output_type": "execute_result"
    }
   ],
   "source": [
    "# startswith(var-keys) to check start with these character or not , it follows case sensitive\n",
    "ipNumber.startswith('192')"
   ]
  },
  {
   "cell_type": "markdown",
   "metadata": {},
   "source": [
    "# endswith() method"
   ]
  },
  {
   "cell_type": "code",
   "execution_count": 42,
   "metadata": {},
   "outputs": [
    {
     "data": {
      "text/plain": [
       "True"
      ]
     },
     "execution_count": 42,
     "metadata": {},
     "output_type": "execute_result"
    }
   ],
   "source": [
    "# endswith(var-keys) to check ends with these character or not , it follows case sensitive\n",
    "ipNumber.endswith('10')"
   ]
  },
  {
   "cell_type": "markdown",
   "metadata": {},
   "source": [
    "# Chaining , Nesting , wrapping"
   ]
  },
  {
   "cell_type": "code",
   "execution_count": 45,
   "metadata": {},
   "outputs": [
    {
     "data": {
      "text/plain": [
       "False"
      ]
     },
     "execution_count": 45,
     "metadata": {},
     "output_type": "execute_result"
    }
   ],
   "source": [
    "# Chaining nesting , how we use multiple methods\n",
    "ipName.lower().startswith('the')"
   ]
  },
  {
   "cell_type": "markdown",
   "metadata": {},
   "source": [
    "# strip() , lstrip() and rstrip() method"
   ]
  },
  {
   "cell_type": "code",
   "execution_count": 118,
   "metadata": {},
   "outputs": [
    {
     "name": "stdout",
     "output_type": "stream",
     "text": [
      "========================================\n",
      "Simple Print\n",
      "Return var result:    Tooba Malaika   \n",
      "========================================\n",
      "Remove whitespace from left and right\n",
      "Removes start and end white space: Tooba Malaika\n",
      "========================================\n",
      "Remove white space from left side\n",
      "Removes start/left white space: Tooba Malaika   \n",
      "========================================\n",
      "Remove whitespace from right side\n",
      "Removes End/right white space:    Tooba Malaika\n",
      "========================================\n"
     ]
    }
   ],
   "source": [
    "# strip() method use for removing white space of variables from end and start\n",
    "# rstrip() only for right side\n",
    "# lstrip() only for left side\n",
    "name = \"   Tooba Malaika   \"\n",
    "print('='*40)\n",
    "print('Simple Print')\n",
    "print(\"Return var result:\" , name)\n",
    "print('='*40)\n",
    "print('Remove whitespace from left and right')\n",
    "print(\"Removes start and end white space:\" , name.strip())\n",
    "print('='*40)\n",
    "print('Remove white space from left side')\n",
    "print(\"Removes start/left white space:\" , name.lstrip())\n",
    "print('='*40)\n",
    "print('Remove whitespace from right side')\n",
    "print(\"Removes End/right white space:\" , name.rstrip())\n",
    "print('='*40)"
   ]
  },
  {
   "cell_type": "markdown",
   "metadata": {},
   "source": [
    "# count() method"
   ]
  },
  {
   "cell_type": "code",
   "execution_count": 119,
   "metadata": {},
   "outputs": [
    {
     "data": {
      "text/plain": [
       "0"
      ]
     },
     "execution_count": 119,
     "metadata": {},
     "output_type": "execute_result"
    }
   ],
   "source": [
    "#count('var any character') starts count in given character \n",
    "name.count('A')"
   ]
  },
  {
   "cell_type": "markdown",
   "metadata": {},
   "source": [
    "# format() method"
   ]
  },
  {
   "cell_type": "code",
   "execution_count": 122,
   "metadata": {},
   "outputs": [
    {
     "name": "stdout",
     "output_type": "stream",
     "text": [
      "Ping IP Addrress is 172.43.68.100\n",
      "========================================\n",
      "172.43.68.100 This IP address given from ping Ping\n"
     ]
    }
   ],
   "source": [
    "# .format(param) method use for formating\n",
    "ping = \"Ping\"\n",
    "IP = \"172.43.68.100\"\n",
    "print('{} IP Addrress is {}' .format(ping,IP))\n",
    "print('='*40)\n",
    "print('{1} This IP address given from ping {0}' .format(ping,IP))"
   ]
  },
  {
   "cell_type": "markdown",
   "metadata": {},
   "source": [
    "##### Example of list to call some functions"
   ]
  },
  {
   "cell_type": "code",
   "execution_count": 123,
   "metadata": {},
   "outputs": [
    {
     "name": "stdout",
     "output_type": "stream",
     "text": [
      "['10.1.1.3', '128.187,34,100', '172,235,100'] \n",
      " ['A', 'B', 'C']\n"
     ]
    }
   ],
   "source": [
    "#Lisr[]\n",
    "IP_Addresses = ['10.1.1.3', '128.187,34,100','172,235,100']\n",
    "IP_Classes =['A', 'B' , 'C']\n",
    "print(IP_Addresses , '\\n' ,IP_Classes)"
   ]
  },
  {
   "cell_type": "markdown",
   "metadata": {},
   "source": [
    "# join() method"
   ]
  },
  {
   "cell_type": "code",
   "execution_count": 124,
   "metadata": {},
   "outputs": [
    {
     "name": "stdout",
     "output_type": "stream",
     "text": [
      "10.1.1.3\n",
      "128.187,34,100\n",
      "172,235,100\n"
     ]
    }
   ],
   "source": [
    "#join(listname) use for spreading index as per given formatting\n",
    "IP_Addresses = ['10.1.1.3', '128.187,34,100','172,235,100']\n",
    "IP_Classes =['A', 'B' , 'C']\n",
    "join_str = '\\n' .join(IP_Addresses)\n",
    "print(join_str)"
   ]
  },
  {
   "cell_type": "markdown",
   "metadata": {},
   "source": [
    "# split() method"
   ]
  },
  {
   "cell_type": "code",
   "execution_count": 125,
   "metadata": {},
   "outputs": [
    {
     "name": "stdout",
     "output_type": "stream",
     "text": [
      "['200', '401', '403', '500', '415']\n"
     ]
    }
   ],
   "source": [
    "# .split(remove mark) use for remove from string and convert into list\n",
    "request_response = '200;401;403;500;415'\n",
    "convert_into_list = request_response.split(';')\n",
    "print(convert_into_list)"
   ]
  },
  {
   "cell_type": "markdown",
   "metadata": {},
   "source": [
    "# Methamatically Expressions"
   ]
  },
  {
   "cell_type": "code",
   "execution_count": 126,
   "metadata": {},
   "outputs": [
    {
     "name": "stdout",
     "output_type": "stream",
     "text": [
      "========================================\n",
      "Addition:  75\n",
      "========================================\n",
      "Substraction:  25\n",
      "========================================\n",
      "Multiplication:  400\n",
      "========================================\n",
      "Division:  8.0\n",
      "========================================\n",
      "Modulus:  0\n"
     ]
    }
   ],
   "source": [
    "#Methamatically operation Perform\n",
    "firstNumber= 10\n",
    "secondNumber = 40\n",
    "thirdNumber = 65\n",
    "fourthNumber = 5\n",
    "\n",
    "print('='*40)\n",
    "print(\"Addition: \" ,firstNumber + thirdNumber)\n",
    "print('='*40)\n",
    "print(\"Substraction: \" ,thirdNumber - secondNumber)\n",
    "print('='*40)\n",
    "print(\"Multiplication: \" ,firstNumber * secondNumber)\n",
    "print('='*40)\n",
    "print(\"Division: \" ,secondNumber / fourthNumber)\n",
    "print('='*40)\n",
    "print(\"Modulus: \" ,thirdNumber % fourthNumber)\n"
   ]
  },
  {
   "cell_type": "markdown",
   "metadata": {},
   "source": [
    "# Lists"
   ]
  },
  {
   "cell_type": "code",
   "execution_count": 2,
   "metadata": {},
   "outputs": [
    {
     "name": "stdout",
     "output_type": "stream",
     "text": [
      "['192.168.12.56', '10.10.12.56', '122.16.32.156']\n",
      "['A', 'B', 'C']\n",
      "[200, 'HTTP', 'FTP', True]\n"
     ]
    }
   ],
   "source": [
    "ip= ['192.168.12.56' , '10.10.12.56' , '122.16.32.156']\n",
    "ip_classes = ['A','B','C']\n",
    "protocols = [200, 'HTTP' , 'FTP' , True]\n",
    "print(ip)\n",
    "print(ip_classes)\n",
    "print(protocols)"
   ]
  },
  {
   "cell_type": "code",
   "execution_count": 4,
   "metadata": {},
   "outputs": [
    {
     "data": {
      "text/plain": [
       "list"
      ]
     },
     "execution_count": 4,
     "metadata": {},
     "output_type": "execute_result"
    }
   ],
   "source": [
    "type(ip_classes)"
   ]
  },
  {
   "cell_type": "markdown",
   "metadata": {},
   "source": [
    "### Access on list index"
   ]
  },
  {
   "cell_type": "code",
   "execution_count": 22,
   "metadata": {},
   "outputs": [
    {
     "name": "stdout",
     "output_type": "stream",
     "text": [
      "[200, 'HTTP', 'FTP', True] \n",
      "\n",
      "O index is:  200\n",
      "1 index is:  HTTP\n",
      "2 index is:  FTP\n",
      "3 index is:  True\n",
      "====================\n",
      "-4 index is:  200\n",
      "-3 index is:  HTTP\n",
      "-2 index is:  FTP\n",
      "-1 index is:  True\n",
      "-0 index is:  200\n",
      "\n",
      " Length of protocols list:  4\n"
     ]
    }
   ],
   "source": [
    "print(protocols,'\\n')\n",
    "# 0 to so on\n",
    "print(\"O index is: \", protocols[0])\n",
    "print(\"1 index is: \",protocols[1])\n",
    "print(\"2 index is: \",protocols[2])\n",
    "print(\"3 index is: \",protocols[3])\n",
    "\n",
    "print('='*20)\n",
    "\n",
    "print(\"-4 index is: \", protocols[-4])\n",
    "print(\"-3 index is: \", protocols[-3])\n",
    "print(\"-2 index is: \", protocols[-2])\n",
    "print(\"-1 index is: \", protocols[-1])\n",
    "print(\"-0 index is: \", protocols[-0])\n",
    "\n",
    "# Length Of List\n",
    "print(\"\\n Length of protocols list: \", len(protocols))"
   ]
  },
  {
   "cell_type": "markdown",
   "metadata": {},
   "source": [
    "# list_var.append(value)\n",
    "### Appending in List. populate the list from the last"
   ]
  },
  {
   "cell_type": "code",
   "execution_count": 36,
   "metadata": {},
   "outputs": [
    {
     "name": "stdout",
     "output_type": "stream",
     "text": [
      "Vendors List are contain these vendor:  []\n",
      "\n",
      "After appending Vendors List are:  ['Cisco']\n",
      "\n",
      "After more appending Vendors List are:  ['Cisco', 'Juniper']\n"
     ]
    }
   ],
   "source": [
    "#Assign empty lis\n",
    "vendors = []\n",
    "print(\"Vendors List are contain these vendor: \", vendors)\n",
    "vendors.append(\"Cisco\")\n",
    "print(\"\\nAfter appending Vendors List are: \", vendors)\n",
    "vendors.append(\"Juniper\")\n",
    "print(\"\\nAfter more appending Vendors List are: \", vendors)"
   ]
  },
  {
   "cell_type": "markdown",
   "metadata": {},
   "source": [
    "# list_var.insert(index,value)\n",
    "### Insert in List. populate the list from the given index"
   ]
  },
  {
   "cell_type": "code",
   "execution_count": 37,
   "metadata": {},
   "outputs": [
    {
     "name": "stdout",
     "output_type": "stream",
     "text": [
      "Vendors List:  ['Cisco', 'Juniper']\n",
      "Vendors List after insert method:  ['Cisco', 'Huawei', 'Juniper']\n",
      "Vendors List after more insert:  ['Apstra', 'Cisco', 'Huawei', 'Juniper']\n",
      "Vendors List after more insert:  ['Cisco', 'Apstra', 'Cisco', 'Huawei', 'Juniper']\n"
     ]
    }
   ],
   "source": [
    "print(\"Vendors List: \", vendors)\n",
    "vendors.insert(1,\"Huawei\")\n",
    "print(\"Vendors List after insert method: \", vendors)\n",
    "vendors.insert(0,\"Apstra\")\n",
    "print(\"Vendors List after more insert: \", vendors)\n",
    "vendors.insert(0,\"Cisco\")\n",
    "print(\"Vendors List after more insert: \", vendors)"
   ]
  },
  {
   "cell_type": "code",
   "execution_count": 40,
   "metadata": {},
   "outputs": [
    {
     "name": "stdout",
     "output_type": "stream",
     "text": [
      "Count of cisco in vendors list:  2\n"
     ]
    }
   ],
   "source": [
    "# Check the count\n",
    "print(\"Count of cisco in vendors list: \" , vendors.count(\"Cisco\"))"
   ]
  },
  {
   "cell_type": "markdown",
   "metadata": {},
   "source": [
    "# list_var.pop()\n",
    "### remove the last index from list"
   ]
  },
  {
   "cell_type": "code",
   "execution_count": 50,
   "metadata": {},
   "outputs": [
    {
     "name": "stdout",
     "output_type": "stream",
     "text": [
      "List of routers:  ['R1', 'R2', 'R3', 'R4', 'R5', 'R6']\n",
      "fter pop tthis index is removed\n"
     ]
    },
    {
     "data": {
      "text/plain": [
       "'R6'"
      ]
     },
     "execution_count": 50,
     "metadata": {},
     "output_type": "execute_result"
    }
   ],
   "source": [
    "routers = ['R1', 'R2','R3','R4','R5','R6',]\n",
    "print(\"List of routers: \" , routers)\n",
    "print(\"After pop tthis index is removed\")\n",
    "routers.pop()\n"
   ]
  },
  {
   "cell_type": "code",
   "execution_count": 53,
   "metadata": {},
   "outputs": [
    {
     "name": "stdout",
     "output_type": "stream",
     "text": [
      "After pop the updated router list is:  ['R1', 'R2', 'R3', 'R4', 'R5']\n",
      "Now remove the R2 router from the list :  R2\n"
     ]
    }
   ],
   "source": [
    "print(\"After pop the updated router list is: \", routers)\n",
    "print(\"Now remove the R2 router from the list : \", routers.pop(1))"
   ]
  },
  {
   "cell_type": "code",
   "execution_count": 54,
   "metadata": {},
   "outputs": [
    {
     "name": "stdout",
     "output_type": "stream",
     "text": [
      "After pop the updated router list is:  ['R1', 'R3', 'R4', 'R5']\n"
     ]
    }
   ],
   "source": [
    "print(\"After pop the updated router list is: \", routers)"
   ]
  },
  {
   "cell_type": "code",
   "execution_count": 55,
   "metadata": {},
   "outputs": [
    {
     "ename": "ValueError",
     "evalue": "1 is not in list",
     "output_type": "error",
     "traceback": [
      "\u001b[0;31m---------------------------------------------------------------------------\u001b[0m",
      "\u001b[0;31mValueError\u001b[0m                                Traceback (most recent call last)",
      "\u001b[0;32m<ipython-input-55-c570970b4152>\u001b[0m in \u001b[0;36m<module>\u001b[0;34m\u001b[0m\n\u001b[0;32m----> 1\u001b[0;31m \u001b[0mrouters\u001b[0m\u001b[0;34m.\u001b[0m\u001b[0mindex\u001b[0m\u001b[0;34m(\u001b[0m\u001b[0;36m1\u001b[0m\u001b[0;34m)\u001b[0m\u001b[0;34m\u001b[0m\u001b[0;34m\u001b[0m\u001b[0m\n\u001b[0m",
      "\u001b[0;31mValueError\u001b[0m: 1 is not in list"
     ]
    }
   ],
   "source": [
    "routers.index(1)"
   ]
  },
  {
   "cell_type": "markdown",
   "metadata": {},
   "source": [
    "# list_var.sort()\n",
    "### sorting the list"
   ]
  },
  {
   "cell_type": "code",
   "execution_count": 60,
   "metadata": {},
   "outputs": [
    {
     "name": "stdout",
     "output_type": "stream",
     "text": [
      "Available the number list is:  [10, 2, 3, 5, 1, 0, 4, 6]\n",
      "After sort available the number list is:  None\n"
     ]
    }
   ],
   "source": [
    "available_numbers = [10,2,3,5,1,0,4,6]\n",
    "print(\"Available the number list is: \", available_numbers)\n",
    "print(\"After sort available the number list is: \", available_numbers.sort())\n"
   ]
  },
  {
   "cell_type": "code",
   "execution_count": null,
   "metadata": {},
   "outputs": [],
   "source": []
  },
  {
   "cell_type": "code",
   "execution_count": null,
   "metadata": {},
   "outputs": [],
   "source": []
  }
 ],
 "metadata": {
  "kernelspec": {
   "display_name": "Python 3",
   "language": "python",
   "name": "python3"
  },
  "language_info": {
   "codemirror_mode": {
    "name": "ipython",
    "version": 3
   },
   "file_extension": ".py",
   "mimetype": "text/x-python",
   "name": "python",
   "nbconvert_exporter": "python",
   "pygments_lexer": "ipython3",
   "version": "3.8.2"
  }
 },
 "nbformat": 4,
 "nbformat_minor": 4
}
